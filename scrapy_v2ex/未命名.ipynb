{
 "cells": [
  {
   "cell_type": "code",
   "execution_count": 1,
   "metadata": {},
   "outputs": [],
   "source": [
    "import re\n"
   ]
  },
  {
   "cell_type": "code",
   "execution_count": 10,
   "metadata": {},
   "outputs": [],
   "source": [
    "f = open(\"./data/001.html\",\"r\")\n",
    "lines = f.readlines()\n",
    "f.close()"
   ]
  },
  {
   "cell_type": "code",
   "execution_count": 3,
   "metadata": {},
   "outputs": [
    {
     "data": {
      "text/plain": [
       "37524169"
      ]
     },
     "execution_count": 3,
     "metadata": {},
     "output_type": "execute_result"
    }
   ],
   "source": [
    "len(lines)"
   ]
  },
  {
   "cell_type": "code",
   "execution_count": 4,
   "metadata": {},
   "outputs": [
    {
     "data": {
      "text/plain": [
       "' '"
      ]
     },
     "execution_count": 4,
     "metadata": {},
     "output_type": "execute_result"
    }
   ],
   "source": [
    "lines[0]"
   ]
  },
  {
   "cell_type": "code",
   "execution_count": 5,
   "metadata": {},
   "outputs": [
    {
     "data": {
      "text/plain": [
       "' '"
      ]
     },
     "execution_count": 5,
     "metadata": {},
     "output_type": "execute_result"
    }
   ],
   "source": [
    "lines[1]"
   ]
  },
  {
   "cell_type": "code",
   "execution_count": 6,
   "metadata": {},
   "outputs": [
    {
     "data": {
      "text/plain": [
       "' '"
      ]
     },
     "execution_count": 6,
     "metadata": {},
     "output_type": "execute_result"
    }
   ],
   "source": [
    "lines[2]"
   ]
  },
  {
   "cell_type": "code",
   "execution_count": 7,
   "metadata": {},
   "outputs": [
    {
     "data": {
      "text/plain": [
       "' '"
      ]
     },
     "execution_count": 7,
     "metadata": {},
     "output_type": "execute_result"
    }
   ],
   "source": [
    "lines[10]"
   ]
  },
  {
   "cell_type": "code",
   "execution_count": 8,
   "metadata": {},
   "outputs": [
    {
     "data": {
      "text/plain": [
       "'e'"
      ]
     },
     "execution_count": 8,
     "metadata": {},
     "output_type": "execute_result"
    }
   ],
   "source": [
    "lines[100]"
   ]
  },
  {
   "cell_type": "code",
   "execution_count": 9,
   "metadata": {},
   "outputs": [
    {
     "data": {
      "text/plain": [
       "'r'"
      ]
     },
     "execution_count": 9,
     "metadata": {},
     "output_type": "execute_result"
    }
   ],
   "source": [
    "lines[200]"
   ]
  },
  {
   "cell_type": "code",
   "execution_count": null,
   "metadata": {},
   "outputs": [],
   "source": []
  },
  {
   "cell_type": "code",
   "execution_count": 11,
   "metadata": {},
   "outputs": [
    {
     "data": {
      "text/plain": [
       "618"
      ]
     },
     "execution_count": 11,
     "metadata": {},
     "output_type": "execute_result"
    }
   ],
   "source": [
    "len(lines)"
   ]
  },
  {
   "cell_type": "code",
   "execution_count": 12,
   "metadata": {},
   "outputs": [
    {
     "data": {
      "text/plain": [
       "'                <div class=\"sep5\"></div>                <span class=\"small fade\"><strong><a href=\"/member/xiaohongshu521\">xiaohongshu521</a></strong> &nbsp;•&nbsp; 1 小时 22 分钟前 &nbsp;•&nbsp; 最后回复来自 <strong><a href=\"/member/LosLord\">LosLord</a></strong></span>                </td>                <td width=\"70\" align=\"right\" valign=\"middle\">                                        <a href=\"/t/568848#reply7\" class=\"count_livid\">7</a>                                    </td>            </tr>        </table>    </div>                    <div class=\"cell from_339025 t_568902\">        <table cellpadding=\"0\" cellspacing=\"0\" border=\"0\" width=\"100%\">            <tr>                <td width=\"48\" valign=\"top\" align=\"center\"><a href=\"/member/dashan888\"><img src=\"//cdn.v2ex.com/gravatar/87dc58e8aa30b84784b4d9207fa96dcf?s=48&d=retro\" class=\"avatar\" border=\"0\" align=\"default\" /></a></td>                <td width=\"10\"></td>                <td width=\"auto\" valign=\"middle\"><span class=\"item_title\"><a href=\"/t/568902#reply0\">招聘编程员和搭建技术员，直播这块</a></span>                <div class=\"sep5\"></div>                <span class=\"small fade\"><strong><a href=\"/member/dashan888\">dashan888</a></strong></span>                </td>                <td width=\"70\" align=\"right\" valign=\"middle\">                                    </td>            </tr>        </table>    </div>            <script async src=\"//pagead2.googlesyndication.com/pagead/js/adsbygoogle.js\"></script>    <ins class=\"adsbygoogle\"        style=\"display:block; border-bottom: 1px solid #e2e2e2;\"        data-ad-format=\"fluid\"        data-ad-layout-key=\"-hr-19-p-2z+is\"        data-ad-client=\"ca-pub-3465543440750523\"        data-ad-slot=\"1027854874\"></ins>    <script>        (adsbygoogle = window.adsbygoogle || []).push({});    </script>                <div class=\"cell from_45124 t_568887\">        <table cellpadding=\"0\" cellspacing=\"0\" border=\"0\" width=\"100%\">            <tr>                <td width=\"48\" valign=\"top\" align=\"center\"><a href=\"/member/xiaolinxi\"><img src=\"//cdn.v2ex.com/avatar/05e3/927f/45124_normal.png?m=1411111017\" class=\"avatar\" border=\"0\" align=\"default\" /></a></td>                <td width=\"10\"></td>                <td width=\"auto\" valign=\"middle\"><span class=\"item_title\"><a href=\"/t/568887#reply1\">[武汉/成都/北京] [字节跳动] [社招] 招聘运营/产品/研发/设计</a></span>                <div class=\"sep5\"></div>                <span class=\"small fade\"><strong><a href=\"/member/xiaolinxi\">xiaolinxi</a></strong> &nbsp;•&nbsp; 2 小时 31 分钟前 &nbsp;•&nbsp; 最后回复来自 <strong><a href=\"/member/comeop\">comeop</a></strong></span>                </td>                <td width=\"70\" align=\"right\" valign=\"middle\">                                        <a href=\"/t/568887#reply1\" class=\"count_livid\">1</a>                                    </td>            </tr>        </table>    </div>                    <div class=\"cell from_52028 t_568789\">        <table cellpadding=\"0\" cellspacing=\"0\" border=\"0\" width=\"100%\">            <tr>                <td width=\"48\" valign=\"top\" align=\"center\"><a href=\"/member/sniper1211\"><img src=\"//cdn.v2ex.com/avatar/1574/5f4c/52028_normal.png?m=1432192746\" class=\"avatar\" border=\"0\" align=\"default\" /></a></td>                <td width=\"10\"></td>                <td width=\"auto\" valign=\"middle\"><span class=\"item_title\"><a href=\"/t/568789#reply4\">[上海] [不加班] 大约网络期待靠谱的产品经理加入</a></span>                <div class=\"sep5\"></div>                <span class=\"small fade\"><strong><a href=\"/member/sniper1211\">sniper1211</a></strong> &nbsp;•&nbsp; 2 小时 49 分钟前 &nbsp;•&nbsp; 最后回复来自 <strong><a href=\"/member/ParfoisMeng\">ParfoisMeng</a></strong></span>                </td>                <td width=\"70\" align=\"right\" valign=\"middle\">                                        <a href=\"/t/568789#reply4\" class=\"count_livid\">4</a>                                    </td>            </tr>        </table>    </div>                    <div class=\"cell from_360479 t_568882\">        <table cellpadding=\"0\" cellspacing=\"0\" border=\"0\" width=\"100%\">            <tr>                <td width=\"48\" valign=\"top\" align=\"center\"><a href=\"/member/lin329477\"><img src=\"//cdn.v2ex.com/gravatar/0bf6dc30967dbc8383ed63a46ad75c37?s=48&d=retro\" class=\"avatar\" border=\"0\" align=\"default\" /></a></td>                <td width=\"10\"></td>                <td width=\"auto\" valign=\"middle\"><span class=\"item_title\"><a href=\"/t/568882#reply1\">[ Java 开发] 研发中心自招 广州天河科韵路 [五天双休]</a></span>                <div class=\"sep5\"></div>                <span class=\"small fade\"><strong><a href=\"/member/lin329477\">lin329477</a></strong> &nbsp;•&nbsp; 3 小时 7 分钟前 &nbsp;•&nbsp; 最后回复来自 <strong><a href=\"/member/lin329477\">lin329477</a></strong></span>                </td>                <td width=\"70\" align=\"right\" valign=\"middle\">                                        <a href=\"/t/568882#reply1\" class=\"count_livid\">1</a>                                    </td>            </tr>        </table>    </div>                    <div class=\"cell from_45124 t_568867\">        <table cellpadding=\"0\" cellspacing=\"0\" border=\"0\" width=\"100%\">            <tr>                <td width=\"48\" valign=\"top\" align=\"center\"><a href=\"/member/xiaolinxi\"><img src=\"//cdn.v2ex.com/avatar/05e3/927f/45124_normal.png?m=1411111017\" class=\"avatar\" border=\"0\" align=\"default\" /></a></td>                <td width=\"10\"></td>                <td width=\"auto\" valign=\"middle\"><span class=\"item_title\"><a href=\"/t/568867#reply1\">[成都/武汉/北京] [字节跳动(今日头条)] 招聘产品、前后端研发实习生（可转正）</a></span>                <div class=\"sep5\"></div>                <span class=\"small fade\"><strong><a href=\"/member/xiaolinxi\">xiaolinxi</a></strong> &nbsp;•&nbsp; 3 小时 11 分钟前 &nbsp;•&nbsp; 最后回复来自 <strong><a href=\"/member/MissThee\">MissThee</a></strong></span>                </td>                <td width=\"70\" align=\"right\" valign=\"middle\">                                        <a href=\"/t/568867#reply1\" class=\"count_livid\">1</a>                                    </td>            </tr>        </table>    </div>                    <div class=\"cell from_307188 t_568805\">        <table cellpadding=\"0\" cellspacing=\"0\" border=\"0\" width=\"100%\">            <tr>                <td width=\"48\" valign=\"top\" align=\"center\"><a href=\"/member/xiaodabw\"><img src=\"//cdn.v2ex.com/avatar/46f0/3fe7/307188_normal.png?m=1545536282\" class=\"avatar\" border=\"0\" align=\"default\" /></a></td>                <td width=\"10\"></td>                <td width=\"auto\" valign=\"middle\"><span class=\"item_title\"><a href=\"/t/568805#reply9\">[不知道为什么前端人好少的样子] 字节跳动前端岗位招聘-北京</a></span>                <div class=\"sep5\"></div>                <span class=\"small fade\"><strong><a href=\"/member/xiaodabw\">xiaodabw</a></strong> &nbsp;•&nbsp; 3 小时 51 分钟前 &nbsp;•&nbsp; 最后回复来自 <strong><a href=\"/member/humor66\">humor66</a></strong></span>                </td>                <td width=\"70\" align=\"right\" valign=\"middle\">                                        <a href=\"/t/568805#reply9\" class=\"count_livid\">9</a>                                    </td>            </tr>        </table>    </div>                    <div class=\"cell from_163988 t_568830\">        <table cellpadding=\"0\" cellspacing=\"0\" border=\"0\" width=\"100%\">            <tr>                <td width=\"48\" valign=\"top\" align=\"center\"><a href=\"/member/kkk330\"><img src=\"//cdn.v2ex.com/avatar/77e0/0267/163988_normal.png?m=1466769290\" class=\"avatar\" border=\"0\" align=\"default\" /></a></td>                <td width=\"10\"></td>                <td width=\"auto\" valign=\"middle\"><span class=\"item_title\"><a href=\"/t/568830#reply0\">滴滴高可用平台研发实习生/工程师招聘</a></span>                <div class=\"sep5\"></div>                <span class=\"small fade\"><strong><a href=\"/member/kkk330\">kkk330</a></strong></span>                </td>                <td width=\"70\" align=\"right\" valign=\"middle\">                                    </td>            </tr>        </table>    </div>                    <div class=\"cell from_40841 t_568693\">        <table cellpadding=\"0\" cellspacing=\"0\" border=\"0\" width=\"100%\">            <tr>                <td width=\"48\" valign=\"top\" align=\"center\"><a href=\"/member/chenjuncs\"><img src=\"//cdn.v2ex.com/avatar/c99d/191b/40841_normal.png?m=1392344589\" class=\"avatar\" border=\"0\" align=\"default\" /></a></td>                <td width=\"10\"></td>                <td width=\"auto\" valign=\"middle\"><span class=\"item_title\"><a href=\"/t/568693#reply5\">[字节跳动] [社招] [校招] Web 前端开发工程师</a></span>                <div class=\"sep5\"></div>                <span class=\"small fade\"><strong><a href=\"/member/chenjuncs\">chenjuncs</a></strong> &nbsp;•&nbsp; 6 小时 5 分钟前 &nbsp;•&nbsp; 最后回复来自 <strong><a href=\"/member/a494836960\">a494836960</a></strong></span>                </td>                <td width=\"70\" align=\"right\" valign=\"middle\">                                        <a href=\"/t/568693#reply5\" class=\"count_livid\">5</a>                                    </td>            </tr>        </table>    </div>                    <div class=\"cell from_243549 t_568819\">        <table cellpadding=\"0\" cellspacing=\"0\" border=\"0\" width=\"100%\">            <tr>                <td width=\"48\" valign=\"top\" align=\"center\"><a href=\"/member/LindaWang\"><img src=\"//cdn.v2ex.com/avatar/4fa0/f72f/243549_normal.png?m=1520302109\" class=\"avatar\" border=\"0\" align=\"default\" /></a></td>                <td width=\"10\"></td>                <td width=\"auto\" valign=\"middle\"><span class=\"item_title\"><a href=\"/t/568819#reply0\">🔥🔥 [FreeWheel] 美资互联网+广告技术平台 北京研发中心核心广告投放团队 招资深后台开发工程师</a></span>                <div class=\"sep5\"></div>                <span class=\"small fade\"><strong><a href=\"/member/LindaWang\">LindaWang</a></strong></span>                </td>                <td width=\"70\" align=\"right\" valign=\"middle\">                                    </td>            </tr>        </table>    </div>            <script async src=\"//pagead2.googlesyndication.com/pagead/js/adsbygoogle.js\"></script>    <ins class=\"adsbygoogle\"        style=\"display:block; border-bottom: 1px solid #e2e2e2;\"        data-ad-format=\"fluid\"        data-ad-layout-key=\"-hr-19-p-2z+is\"        data-ad-client=\"ca-pub-3465543440750523\"        data-ad-slot=\"1027854874\"></ins>    <script>        (adsbygoogle = window.adsbygoogle || []).push({});    </script>                <div class=\"cell from_201491 t_568815\">        <table cellpadding=\"0\" cellspacing=\"0\" border=\"0\" width=\"100%\">            <tr>                <td width=\"48\" valign=\"top\" align=\"center\"><a href=\"/member/silentcloud\"><img src=\"//cdn.v2ex.com/gravatar/9ba9d533a6bb5553c398234b5d2439ba?s=48&d=retro\" class=\"avatar\" border=\"0\" align=\"default\" /></a></td>                <td width=\"10\"></td>                <td width=\"auto\" valign=\"middle\"><span class=\"item_title\"><a href=\"/t/568815#reply0\">[杭州, 北京][钉钉文档] 钉钉文档招 前端， Java ，急招。。。</a></span>                <div class=\"sep5\"></div>                <span class=\"small fade\"><strong><a href=\"/member/silentcloud\">silentcloud</a></strong></span>                </td>                <td width=\"70\" align=\"right\" valign=\"middle\">                                    </td>            </tr>        </table>    </div>                    <div class=\"cell from_214810 t_568798\">        <table cellpadding=\"0\" cellspacing=\"0\" border=\"0\" width=\"100%\">            <tr>                <td width=\"48\" valign=\"top\" align=\"center\"><a href=\"/member/wzxjiang\"><img src=\"//cdn.v2ex.com/gravatar/c66b4584320e346ad6be9a4eb9fe94dc?s=48&d=retro\" class=\"avatar\" border=\"0\" align=\"default\" /></a></td>                <td width=\"10\"></td>                <td width=\"auto\" valign=\"middle\"><span class=\"item_title\"><a href=\"/t/568798#reply0\">[上海][社招] Teambition 招聘前端/后端/安卓/测试/产品/设计</a></span>                <div class=\"sep5\"></div>                <span class=\"small fade\"><strong><a href=\"/member/wzxjiang\">wzxjiang</a></strong></span>                </td>                <td width=\"70\" align=\"right\" valign=\"middle\">                                    </td>            </tr>        </table>    </div>                    <div class=\"cell from_183336 t_568792\">        <table cellpadding=\"0\" cellspacing=\"0\" border=\"0\" width=\"100%\">            <tr>                <td width=\"48\" valign=\"top\" align=\"center\"><a href=\"/member/shuaizi\"><img src=\"//cdn.v2ex.com/gravatar/0056d69f1f03fb853262f0b634990860?s=48&d=retro\" class=\"avatar\" border=\"0\" align=\"default\" /></a></td>                <td width=\"10\"></td>                <td width=\"auto\" valign=\"middle\"><span class=\"item_title\"><a href=\"/t/568792#reply0\">金山云招聘啦 \\n'"
      ]
     },
     "execution_count": 12,
     "metadata": {},
     "output_type": "execute_result"
    }
   ],
   "source": [
    "lines[0]"
   ]
  },
  {
   "cell_type": "code",
   "execution_count": 60,
   "metadata": {},
   "outputs": [],
   "source": [
    "def get_href(content):\n",
    "    res = re.findall(re.compile('(<a href=\"(.+)\">(.+)</a>'),content)\n",
    "    return res\n",
    "    \n"
   ]
  },
  {
   "cell_type": "code",
   "execution_count": 74,
   "metadata": {},
   "outputs": [],
   "source": [
    "reg = re.compile('<a href=\"(?P<first>\\w+)\">\\w+</a>')"
   ]
  },
  {
   "cell_type": "code",
   "execution_count": 76,
   "metadata": {},
   "outputs": [
    {
     "data": {
      "text/plain": [
       "re.compile(r'<a href=\"(?P<first>\\w+)\">\\w+</a>', re.UNICODE)"
      ]
     },
     "execution_count": 76,
     "metadata": {},
     "output_type": "execute_result"
    }
   ],
   "source": [
    "reg"
   ]
  },
  {
   "cell_type": "code",
   "execution_count": 87,
   "metadata": {},
   "outputs": [
    {
     "ename": "error",
     "evalue": "missing ), unterminated subpattern at position 0",
     "output_type": "error",
     "traceback": [
      "\u001b[0;31m---------------------------------------------------------------------------\u001b[0m",
      "\u001b[0;31merror\u001b[0m                                     Traceback (most recent call last)",
      "\u001b[0;32m<ipython-input-87-a690f7ea34d4>\u001b[0m in \u001b[0;36m<module>\u001b[0;34m\u001b[0m\n\u001b[0;32m----> 1\u001b[0;31m \u001b[0mress\u001b[0m \u001b[0;34m=\u001b[0m \u001b[0mre\u001b[0m\u001b[0;34m.\u001b[0m\u001b[0mfindall\u001b[0m\u001b[0;34m(\u001b[0m\u001b[0;34mr'(?<=\\<a href=\".*\">.*?(\\<\\/a\\>).*'\u001b[0m\u001b[0;34m,\u001b[0m\u001b[0;34m'asfdasjdfhlaksdjhf <a href=\"http://www.baidu.com\">dsjlafkjsdlfjlasdjkflk</a>asfdasjdfhlaksdjhf <a href=\"http://www.baidu.com\">dsjlafkjsdlfjlasdjkflk</a>'\u001b[0m\u001b[0;34m)\u001b[0m\u001b[0;34m\u001b[0m\u001b[0m\n\u001b[0m",
      "\u001b[0;32m/opt/anaconda/envs/nlp/lib/python3.6/re.py\u001b[0m in \u001b[0;36mfindall\u001b[0;34m(pattern, string, flags)\u001b[0m\n\u001b[1;32m    220\u001b[0m \u001b[0;34m\u001b[0m\u001b[0m\n\u001b[1;32m    221\u001b[0m     Empty matches are included in the result.\"\"\"\n\u001b[0;32m--> 222\u001b[0;31m     \u001b[0;32mreturn\u001b[0m \u001b[0m_compile\u001b[0m\u001b[0;34m(\u001b[0m\u001b[0mpattern\u001b[0m\u001b[0;34m,\u001b[0m \u001b[0mflags\u001b[0m\u001b[0;34m)\u001b[0m\u001b[0;34m.\u001b[0m\u001b[0mfindall\u001b[0m\u001b[0;34m(\u001b[0m\u001b[0mstring\u001b[0m\u001b[0;34m)\u001b[0m\u001b[0;34m\u001b[0m\u001b[0m\n\u001b[0m\u001b[1;32m    223\u001b[0m \u001b[0;34m\u001b[0m\u001b[0m\n\u001b[1;32m    224\u001b[0m \u001b[0;32mdef\u001b[0m \u001b[0mfinditer\u001b[0m\u001b[0;34m(\u001b[0m\u001b[0mpattern\u001b[0m\u001b[0;34m,\u001b[0m \u001b[0mstring\u001b[0m\u001b[0;34m,\u001b[0m \u001b[0mflags\u001b[0m\u001b[0;34m=\u001b[0m\u001b[0;36m0\u001b[0m\u001b[0;34m)\u001b[0m\u001b[0;34m:\u001b[0m\u001b[0;34m\u001b[0m\u001b[0m\n",
      "\u001b[0;32m/opt/anaconda/envs/nlp/lib/python3.6/re.py\u001b[0m in \u001b[0;36m_compile\u001b[0;34m(pattern, flags)\u001b[0m\n\u001b[1;32m    299\u001b[0m     \u001b[0;32mif\u001b[0m \u001b[0;32mnot\u001b[0m \u001b[0msre_compile\u001b[0m\u001b[0;34m.\u001b[0m\u001b[0misstring\u001b[0m\u001b[0;34m(\u001b[0m\u001b[0mpattern\u001b[0m\u001b[0;34m)\u001b[0m\u001b[0;34m:\u001b[0m\u001b[0;34m\u001b[0m\u001b[0m\n\u001b[1;32m    300\u001b[0m         \u001b[0;32mraise\u001b[0m \u001b[0mTypeError\u001b[0m\u001b[0;34m(\u001b[0m\u001b[0;34m\"first argument must be string or compiled pattern\"\u001b[0m\u001b[0;34m)\u001b[0m\u001b[0;34m\u001b[0m\u001b[0m\n\u001b[0;32m--> 301\u001b[0;31m     \u001b[0mp\u001b[0m \u001b[0;34m=\u001b[0m \u001b[0msre_compile\u001b[0m\u001b[0;34m.\u001b[0m\u001b[0mcompile\u001b[0m\u001b[0;34m(\u001b[0m\u001b[0mpattern\u001b[0m\u001b[0;34m,\u001b[0m \u001b[0mflags\u001b[0m\u001b[0;34m)\u001b[0m\u001b[0;34m\u001b[0m\u001b[0m\n\u001b[0m\u001b[1;32m    302\u001b[0m     \u001b[0;32mif\u001b[0m \u001b[0;32mnot\u001b[0m \u001b[0;34m(\u001b[0m\u001b[0mflags\u001b[0m \u001b[0;34m&\u001b[0m \u001b[0mDEBUG\u001b[0m\u001b[0;34m)\u001b[0m\u001b[0;34m:\u001b[0m\u001b[0;34m\u001b[0m\u001b[0m\n\u001b[1;32m    303\u001b[0m         \u001b[0;32mif\u001b[0m \u001b[0mlen\u001b[0m\u001b[0;34m(\u001b[0m\u001b[0m_cache\u001b[0m\u001b[0;34m)\u001b[0m \u001b[0;34m>=\u001b[0m \u001b[0m_MAXCACHE\u001b[0m\u001b[0;34m:\u001b[0m\u001b[0;34m\u001b[0m\u001b[0m\n",
      "\u001b[0;32m/opt/anaconda/envs/nlp/lib/python3.6/sre_compile.py\u001b[0m in \u001b[0;36mcompile\u001b[0;34m(p, flags)\u001b[0m\n\u001b[1;32m    560\u001b[0m     \u001b[0;32mif\u001b[0m \u001b[0misstring\u001b[0m\u001b[0;34m(\u001b[0m\u001b[0mp\u001b[0m\u001b[0;34m)\u001b[0m\u001b[0;34m:\u001b[0m\u001b[0;34m\u001b[0m\u001b[0m\n\u001b[1;32m    561\u001b[0m         \u001b[0mpattern\u001b[0m \u001b[0;34m=\u001b[0m \u001b[0mp\u001b[0m\u001b[0;34m\u001b[0m\u001b[0m\n\u001b[0;32m--> 562\u001b[0;31m         \u001b[0mp\u001b[0m \u001b[0;34m=\u001b[0m \u001b[0msre_parse\u001b[0m\u001b[0;34m.\u001b[0m\u001b[0mparse\u001b[0m\u001b[0;34m(\u001b[0m\u001b[0mp\u001b[0m\u001b[0;34m,\u001b[0m \u001b[0mflags\u001b[0m\u001b[0;34m)\u001b[0m\u001b[0;34m\u001b[0m\u001b[0m\n\u001b[0m\u001b[1;32m    563\u001b[0m     \u001b[0;32melse\u001b[0m\u001b[0;34m:\u001b[0m\u001b[0;34m\u001b[0m\u001b[0m\n\u001b[1;32m    564\u001b[0m         \u001b[0mpattern\u001b[0m \u001b[0;34m=\u001b[0m \u001b[0;32mNone\u001b[0m\u001b[0;34m\u001b[0m\u001b[0m\n",
      "\u001b[0;32m/opt/anaconda/envs/nlp/lib/python3.6/sre_parse.py\u001b[0m in \u001b[0;36mparse\u001b[0;34m(str, flags, pattern)\u001b[0m\n\u001b[1;32m    853\u001b[0m \u001b[0;34m\u001b[0m\u001b[0m\n\u001b[1;32m    854\u001b[0m     \u001b[0;32mtry\u001b[0m\u001b[0;34m:\u001b[0m\u001b[0;34m\u001b[0m\u001b[0m\n\u001b[0;32m--> 855\u001b[0;31m         \u001b[0mp\u001b[0m \u001b[0;34m=\u001b[0m \u001b[0m_parse_sub\u001b[0m\u001b[0;34m(\u001b[0m\u001b[0msource\u001b[0m\u001b[0;34m,\u001b[0m \u001b[0mpattern\u001b[0m\u001b[0;34m,\u001b[0m \u001b[0mflags\u001b[0m \u001b[0;34m&\u001b[0m \u001b[0mSRE_FLAG_VERBOSE\u001b[0m\u001b[0;34m,\u001b[0m \u001b[0;36m0\u001b[0m\u001b[0;34m)\u001b[0m\u001b[0;34m\u001b[0m\u001b[0m\n\u001b[0m\u001b[1;32m    856\u001b[0m     \u001b[0;32mexcept\u001b[0m \u001b[0mVerbose\u001b[0m\u001b[0;34m:\u001b[0m\u001b[0;34m\u001b[0m\u001b[0m\n\u001b[1;32m    857\u001b[0m         \u001b[0;31m# the VERBOSE flag was switched on inside the pattern.  to be\u001b[0m\u001b[0;34m\u001b[0m\u001b[0;34m\u001b[0m\u001b[0m\n",
      "\u001b[0;32m/opt/anaconda/envs/nlp/lib/python3.6/sre_parse.py\u001b[0m in \u001b[0;36m_parse_sub\u001b[0;34m(source, state, verbose, nested)\u001b[0m\n\u001b[1;32m    414\u001b[0m     \u001b[0;32mwhile\u001b[0m \u001b[0;32mTrue\u001b[0m\u001b[0;34m:\u001b[0m\u001b[0;34m\u001b[0m\u001b[0m\n\u001b[1;32m    415\u001b[0m         itemsappend(_parse(source, state, verbose, nested + 1,\n\u001b[0;32m--> 416\u001b[0;31m                            not nested and not items))\n\u001b[0m\u001b[1;32m    417\u001b[0m         \u001b[0;32mif\u001b[0m \u001b[0;32mnot\u001b[0m \u001b[0msourcematch\u001b[0m\u001b[0;34m(\u001b[0m\u001b[0;34m\"|\"\u001b[0m\u001b[0;34m)\u001b[0m\u001b[0;34m:\u001b[0m\u001b[0;34m\u001b[0m\u001b[0m\n\u001b[1;32m    418\u001b[0m             \u001b[0;32mbreak\u001b[0m\u001b[0;34m\u001b[0m\u001b[0m\n",
      "\u001b[0;32m/opt/anaconda/envs/nlp/lib/python3.6/sre_parse.py\u001b[0m in \u001b[0;36m_parse\u001b[0;34m(source, state, verbose, nested, first)\u001b[0m\n\u001b[1;32m    700\u001b[0m                     \u001b[0;32mif\u001b[0m \u001b[0;32mnot\u001b[0m \u001b[0msourcematch\u001b[0m\u001b[0;34m(\u001b[0m\u001b[0;34m\")\"\u001b[0m\u001b[0;34m)\u001b[0m\u001b[0;34m:\u001b[0m\u001b[0;34m\u001b[0m\u001b[0m\n\u001b[1;32m    701\u001b[0m                         raise source.error(\"missing ), unterminated subpattern\",\n\u001b[0;32m--> 702\u001b[0;31m                                            source.tell() - start)\n\u001b[0m\u001b[1;32m    703\u001b[0m                     \u001b[0;32mif\u001b[0m \u001b[0mchar\u001b[0m \u001b[0;34m==\u001b[0m \u001b[0;34m\"=\"\u001b[0m\u001b[0;34m:\u001b[0m\u001b[0;34m\u001b[0m\u001b[0m\n\u001b[1;32m    704\u001b[0m                         \u001b[0msubpatternappend\u001b[0m\u001b[0;34m(\u001b[0m\u001b[0;34m(\u001b[0m\u001b[0mASSERT\u001b[0m\u001b[0;34m,\u001b[0m \u001b[0;34m(\u001b[0m\u001b[0mdir\u001b[0m\u001b[0;34m,\u001b[0m \u001b[0mp\u001b[0m\u001b[0;34m)\u001b[0m\u001b[0;34m)\u001b[0m\u001b[0;34m)\u001b[0m\u001b[0;34m\u001b[0m\u001b[0m\n",
      "\u001b[0;31merror\u001b[0m: missing ), unterminated subpattern at position 0"
     ]
    }
   ],
   "source": [
    "ress = re.findall(r'(?<=\\<a href=\".*\">.*?(\\<\\/a\\>).*','asfdasjdfhlaksdjhf <a href=\"http://www.baidu.com\">dsjlafkjsdlfjlasdjkflk</a>asfdasjdfhlaksdjhf <a href=\"http://www.baidu.com\">dsjlafkjsdlfjlasdjkflk</a>')"
   ]
  },
  {
   "cell_type": "code",
   "execution_count": 86,
   "metadata": {},
   "outputs": [
    {
     "data": {
      "text/plain": [
       "['asfdasjdfhlaksdjhf <a href=\"http://www.baidu.com\">dsjlafkjsdlfjlasdjkflk</a>asfdasjdfhlaksdjhf <a href=\"http://www.baidu.com\">dsjlafkjsdlfjlasdjkflk</a>']"
      ]
     },
     "execution_count": 86,
     "metadata": {},
     "output_type": "execute_result"
    }
   ],
   "source": [
    "ress"
   ]
  },
  {
   "cell_type": "code",
   "execution_count": 80,
   "metadata": {},
   "outputs": [
    {
     "data": {
      "text/plain": [
       "NoneType"
      ]
     },
     "execution_count": 80,
     "metadata": {},
     "output_type": "execute_result"
    }
   ],
   "source": [
    "type(ress)"
   ]
  },
  {
   "cell_type": "code",
   "execution_count": null,
   "metadata": {},
   "outputs": [],
   "source": []
  }
 ],
 "metadata": {
  "kernelspec": {
   "display_name": "Python 3",
   "language": "python",
   "name": "python3"
  },
  "language_info": {
   "codemirror_mode": {
    "name": "ipython",
    "version": 3
   },
   "file_extension": ".py",
   "mimetype": "text/x-python",
   "name": "python",
   "nbconvert_exporter": "python",
   "pygments_lexer": "ipython3",
   "version": "3.6.6"
  }
 },
 "nbformat": 4,
 "nbformat_minor": 2
}
